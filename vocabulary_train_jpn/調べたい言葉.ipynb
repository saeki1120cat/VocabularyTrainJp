{
 "cells": [
  {
   "cell_type": "code",
   "execution_count": 1,
   "metadata": {},
   "outputs": [],
   "source": [
    "import requests\n",
    "from bs4 import BeautifulSoup\n",
    "from fake_useragent import UserAgent\n",
    "import csv\n",
    "import time\n",
    "import random\n",
    "import concurrent.futures\n",
    "import math\n",
    "import re\n",
    "import pandas as pd"
   ]
  },
  {
   "cell_type": "markdown",
   "metadata": {},
   "source": [
    "辞書  漢字辞典 「」の意味"
   ]
  },
  {
   "cell_type": "code",
   "execution_count": 84,
   "metadata": {},
   "outputs": [
    {
     "name": "stdout",
     "output_type": "stream",
     "text": [
      "キーワード王\n",
      "調べたい言葉は 王\n",
      "\n",
      "王の部首・画数・読み方・意味\n",
      "=========\n",
      "部首王:（たま・おう・おうへん・たまへん）\n",
      "画数:4（部首内画数：0:）\n",
      "種別:常用漢字・教育漢字\n",
      "漢検の級:10級\n",
      "=========\n",
      "音読み:オウ\n",
      "訓読み:［外］きみ\n",
      "=========\n",
      "意味:\n",
      "①きみ。一国の君主。「王宮」「王朝」「国王」 ②最も力のある者。第一人者。「王座」「王者」\n",
      "\n"
     ]
    }
   ],
   "source": [
    "keyword_str =str(input(\"キーワード\"))\n",
    "\n",
    "url = 'https://dictionary.goo.ne.jp/word/kanji/' + keyword_str +'/'\n",
    "\n",
    "sleep_time = random.random()\n",
    "ua = UserAgent()\n",
    "headers = {'User-Agent':ua.random}   \n",
    "res = requests.get(url, headers = headers)\n",
    "soup = BeautifulSoup(res.text, 'html.parser') \n",
    "\n",
    "# ===類型1-漢字====================================\n",
    "imi = soup.find(\"h1\").text.replace(\"\\n\",\"\").replace(\" \",\"\")\n",
    "\n",
    "jpword4 = soup.find_all(\"div\", attrs={\"class\":[\"info\"]})\n",
    "word_text4 = \"\"\n",
    "for k in jpword4:\n",
    "    word_text4 = word_text4 + k.text.replace(\"\\n \",\":\").replace(\"\\n\\n\",\"\").replace(\" \",\"\").replace(\"種別\\n\",\"\\n種別:\").replace(\"漢検の級\\n\",\"漢検の級:\").replace(\"\\n画数\",\"\\n画数:\")\n",
    "\n",
    "jpword2 = soup.find_all(\"div\", attrs={\"class\":[\"reads\"]})\n",
    "word_text2 = \"\"\n",
    "for j in jpword2:\n",
    "    word_text2 = word_text2 + j.text.replace(\"\\n \",\":\").replace(\"\\n\\n\",\"\")\n",
    "\n",
    "jpword = soup.find_all(\"div\", attrs={\"class\":[\"inner_block\"]})\n",
    "word_text = \"\"\n",
    "for i in jpword:\n",
    "    word_text = word_text + i.text\n",
    "print(\"調べたい言葉は {}\\n\\n{}\\n=========\\n{}=========\\n{}\\n=========\\n意味:{}\".format(keyword_str, imi, word_text4, word_text2, word_text))\n",
    "\n",
    "\n",
    "# ===類型2====================================\n",
    "\n"
   ]
  },
  {
   "cell_type": "code",
   "execution_count": 109,
   "metadata": {},
   "outputs": [
    {
     "name": "stdout",
     "output_type": "stream",
     "text": [
      "キーワード始まる\n",
      "調べたい言葉は 始まる\n",
      "\n",
      "始まる（はじまる）の意味:\n",
      "\n",
      "［動ラ五（四）］\n",
      "\n",
      "１ 物事が行っていない状態から行う状態になる。行われだす。「勤めは朝九時に―・る」「工事が―・る」⇔終わる。\n",
      "２ 新しく起こる。新たに発生する。「戦争が―・る」\n",
      "３ 起因する。起源をもつ。「けんかは何げない一言から―・った」「この風習は平安時代に―・る」\n",
      "４ いつものくせが出る。「そら―・った。例の自慢話だよ」\n",
      "５ （「…ても始まらない」の形で）むだだ。手遅れだ。しようがない。「怒っても―・らない」「今さら薬を飲んでも―・らない」\n",
      "\n",
      "\n"
     ]
    }
   ],
   "source": [
    "keyword_str =str(input(\"キーワード\"))\n",
    "\n",
    "url = 'https://dictionary.goo.ne.jp/word/' + keyword_str +'/'\n",
    "\n",
    "sleep_time = random.random()\n",
    "ua = UserAgent()\n",
    "headers = {'User-Agent':ua.random}   \n",
    "res = requests.get(url, headers = headers)\n",
    "soup = BeautifulSoup(res.text, 'html.parser') \n",
    "\n",
    "# ===類型2-漢字====================================\n",
    "imi = soup.find(\"h1\").text.replace(\"\\n\",\"\").replace(\" \",\"\")\n",
    "\n",
    "jpword = soup.find_all(\"div\", attrs={\"class\":[\"contents\"]})\n",
    "word_text = \"\"\n",
    "for i in jpword:\n",
    "    word_text = word_text + i.text.replace(\"\\n\\n\\n\",\"\\n\")\n",
    "\n",
    "print(\"調べたい言葉は {}\\n\\n{}:\\n{}\".format(keyword_str, imi, word_text))\n"
   ]
  },
  {
   "cell_type": "code",
   "execution_count": 19,
   "metadata": {},
   "outputs": [
    {
     "name": "stdout",
     "output_type": "stream",
     "text": [
      "キーワード従い\n",
      "お探しの情報は見つかりませんでした。\n"
     ]
    }
   ],
   "source": [
    "# 找日文解釋\n",
    "keyword_str =str(input(\"キーワード\"))\n",
    "\n",
    "url1 = 'https://dictionary.goo.ne.jp/word/kanji/' + keyword_str +'/'\n",
    "url2 = 'https://dictionary.goo.ne.jp/word/' + keyword_str +'/'\n",
    "\n",
    "sleep_time = random.random()\n",
    "ua = UserAgent()\n",
    "headers = {'User-Agent':ua.random}   \n",
    "res = requests.get(url1, headers = headers)\n",
    "soup = BeautifulSoup(res.text, 'html.parser') \n",
    "\n",
    "if soup.find(\"h1\").text == \"お探しの情報は見つかりませんでした。\":\n",
    "    res = requests.get(url2, headers = headers)\n",
    "    soup = BeautifulSoup(res.text, 'html.parser')\n",
    "    # ===類型2====================================\n",
    "    if soup.find(\"h1\").text == \"お探しの情報は見つかりませんでした。\":\n",
    "        print(soup.find(\"h1\").text)\n",
    "    else:\n",
    "        imi = soup.find(\"h1\").text.replace(\"\\n\",\"\").replace(\" \",\"\") \n",
    "\n",
    "        jpword = soup.find_all(\"div\", attrs={\"class\":[\"contents\"]})\n",
    "        word_text = \"\"\n",
    "        for i in jpword:\n",
    "            word_text = word_text + i.text.replace(\"\\n\\n\\n\",\"\\n\")\n",
    "\n",
    "        print(\"調べたい言葉は {}\\n\\n{}:\\n{}\".format(keyword_str, imi, word_text))\n",
    "        time.sleep(sleep_time)\n",
    "else:\n",
    "    # ===類型1-漢字====================================\n",
    "    imi = soup.find(\"h1\").text.replace(\"\\n\",\"\").replace(\" \",\"\") \n",
    "\n",
    "    jpword4 = soup.find_all(\"div\", attrs={\"class\":[\"info\"]})\n",
    "    word_text4 = \"\"\n",
    "    for k in jpword4:\n",
    "        word_text4 = word_text4 + k.text.replace(\"\\n \",\":\").replace(\"\\n\\n\",\"\").replace(\" \",\"\").replace(\"種別\\n\",\"\\n種別:\").replace(\"漢検の級\\n\",\"漢検の級:\").replace(\"\\n画数\",\"\\n画数:\")\n",
    "\n",
    "    jpword2 = soup.find_all(\"div\", attrs={\"class\":[\"reads\"]})\n",
    "    word_text2 = \"\"\n",
    "    for j in jpword2:\n",
    "        word_text2 = word_text2 + j.text.replace(\"\\n \",\":\").replace(\"\\n\\n\",\"\")\n",
    "\n",
    "    jpword = soup.find_all(\"div\", attrs={\"class\":[\"inner_block\"]})\n",
    "    word_text = \"\"\n",
    "    for i in jpword:\n",
    "        word_text = word_text + i.text\n",
    "    print(\"調べたい言葉は {}\\n\\n{}\\n=========\\n{}=========\\n{}\\n=========\\n意味:{}\".format(keyword_str, imi, word_text4, word_text2, word_text))\n",
    "    time.sleep(sleep_time)"
   ]
  },
  {
   "cell_type": "code",
   "execution_count": 78,
   "metadata": {},
   "outputs": [
    {
     "name": "stdout",
     "output_type": "stream",
     "text": [
      "キーワードkhga.n\n",
      "お探しの情報は見つかりませんでした。\n"
     ]
    }
   ],
   "source": [
    "# 查中文意思\n",
    "keyword_str =str(input(\"キーワード\"))\n",
    "\n",
    "url = 'https://dict.asia/jc/' + keyword_str\n",
    "\n",
    "sleep_time = random.random()\n",
    "ua = UserAgent()\n",
    "headers = {'User-Agent':ua.random}   \n",
    "res = requests.get(url, headers = headers)\n",
    "soup = BeautifulSoup(res.text, 'html.parser')\n",
    "try:\n",
    "    jp_comment = soup.find(\"div\", attrs={\"id\":[\"jp_comment\"]})\n",
    "    yomikata = jp_comment.find(\"span\", attrs={\"class\":[\"trs_jp bold\"]}).text\n",
    "    wordtype = jp_comment.find(\"span\", attrs={\"class\":[\"commentItem\"]}).text.replace(\"】\",\"】\\n\").replace(\"\\u3000\",\"\\n   •\").replace(\"（\",\"\\n（\").replace(\"《\",\"\\n《\").replace(\"【\",\"\\n【\")\n",
    "    print(\"調べたい言葉は {}\\n\\n読み方: {}\\n{}\\n\".format(keyword_str, yomikata, wordtype))\n",
    "except:\n",
    "    print(\"お探しの情報は見つかりませんでした。\")"
   ]
  },
  {
   "cell_type": "code",
   "execution_count": null,
   "metadata": {},
   "outputs": [],
   "source": []
  }
 ],
 "metadata": {
  "kernelspec": {
   "display_name": "studyCFB101",
   "language": "python",
   "name": "studycfb101"
  },
  "language_info": {
   "codemirror_mode": {
    "name": "ipython",
    "version": 3
   },
   "file_extension": ".py",
   "mimetype": "text/x-python",
   "name": "python",
   "nbconvert_exporter": "python",
   "pygments_lexer": "ipython3",
   "version": "3.8.8"
  },
  "varInspector": {
   "cols": {
    "lenName": 16,
    "lenType": 16,
    "lenVar": 40
   },
   "kernels_config": {
    "python": {
     "delete_cmd_postfix": "",
     "delete_cmd_prefix": "del ",
     "library": "var_list.py",
     "varRefreshCmd": "print(var_dic_list())"
    },
    "r": {
     "delete_cmd_postfix": ") ",
     "delete_cmd_prefix": "rm(",
     "library": "var_list.r",
     "varRefreshCmd": "cat(var_dic_list()) "
    }
   },
   "types_to_exclude": [
    "module",
    "function",
    "builtin_function_or_method",
    "instance",
    "_Feature"
   ],
   "window_display": false
  }
 },
 "nbformat": 4,
 "nbformat_minor": 4
}
